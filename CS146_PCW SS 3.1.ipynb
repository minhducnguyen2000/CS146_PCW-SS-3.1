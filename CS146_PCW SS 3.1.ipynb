{
 "cells": [
  {
   "cell_type": "markdown",
   "metadata": {},
   "source": [
    "# Normal likelihoods and normal-inverse-gamma priors\n",
    "\n",
    "Today we explore how samples from a prior distribution can be interpreted as instances of the likelihood function. Specifically, we look at how samples from a normal-inverse-gamma (NIG) distribution can be interpreted as normal distributions.\n",
    "\n",
    "**In short:** Each sample from the NIG distribution is a pair $(x, \\sigma^2)$. These values specify the mean and variance of a normal distribution and so we can think of the sample (the pair of values) as an instance of the normal distribution (which will be our likelihood function). More below.\n",
    "\n",
    "## Normal-inverse-gamma in SciPy\n",
    "\n",
    "Even though SciPy does have classes defined for the normal distribution (`scipy.stats.norm`) and the inverse-gamma distribution (`scipy.stats.invgamma`), it does not have one defined for the normal-inverse-gamma distribution. To help you, the functions below implement the probability density function and a sampler for the normal-inverse-gamma distribution."
   ]
  },
  {
   "cell_type": "code",
   "execution_count": 1,
   "metadata": {},
   "outputs": [],
   "source": [
    "import numpy as np\n",
    "import scipy.stats as sts\n",
    "import matplotlib.pyplot as plt"
   ]
  },
  {
   "cell_type": "code",
   "execution_count": 2,
   "metadata": {},
   "outputs": [],
   "source": [
    "'''\n",
    "Function definitions for the normal-inverse-gamma distribution. The parameters\n",
    "of the distribution, namely mu (μ), either lambda (λ) or nu (ν), alpha (α),\n",
    "beta (β), are used as defined here:\n",
    "\n",
    "  https://en.wikipedia.org/wiki/Normal-inverse-gamma_distribution\n",
    "\n",
    "Note that we use the symbol nu (ν) rather than lambda (λ) for the third\n",
    "parameter. This is to match the notation used in the conjugate priors table on\n",
    "Wikipedia:\n",
    "\n",
    "  https://en.wikipedia.org/wiki/Conjugate_prior#Table_of_conjugate_distributions\n",
    "'''\n",
    "\n",
    "def norminvgamma_pdf(x, sigma2, mu, nu, alpha, beta):\n",
    "    '''\n",
    "    The probability density function of the normal-inverse-gamma distribution at\n",
    "    x (mean) and sigma2 (variance).\n",
    "    '''\n",
    "    return (\n",
    "        sts.norm.pdf(x, loc=mu, scale=np.sqrt(sigma2 / nu)) *\n",
    "        sts.invgamma.pdf(sigma2, a=alpha, scale=beta))\n",
    "\n",
    "def norminvgamma_rvs(mu, nu, alpha, beta, size=1):\n",
    "    '''\n",
    "    Generate n samples from the normal-inverse-gamma distribution. This function\n",
    "    returns a (size x 2) matrix where each row contains a sample, (x, sigma2).\n",
    "    '''\n",
    "    # Sample sigma^2 from the inverse-gamma distribution\n",
    "    sigma2 = sts.invgamma.rvs(a=alpha, scale=beta, size=size)\n",
    "    # Sample x from the normal distribution\n",
    "    x = sts.norm.rvs(loc=mu, scale=np.sqrt(sigma2 / nu), size=size)\n",
    "    return np.vstack((x, sigma2)).transpose()"
   ]
  },
  {
   "cell_type": "markdown",
   "metadata": {},
   "source": [
    "## Task 1\n",
    "\n",
    "1. Generate 10 samples from the normal-inverse-gamma (NIG) distribution with parameters as\n",
    "   provided below.\n",
    "   \n",
    "   Each sample corresponds to the mean and variance of a normal\n",
    "   distribution.\n",
    "   \n",
    "   With these NIG parameters, the prior 95% confidence interval for\n",
    "   the mean is about [-10, 10] and for the variance [0.1, 10].\n",
    "   \n",
    "   In practice you would\n",
    "   work the other way around: use confidence intervals (or other information) to determine values for the\n",
    "   prior hyperparameters.\n",
    "\n",
    "\n",
    "2. Plot the 10 normal distributions corresponding to your 10 samples. To see the functions\n",
    "   clearly, plot your graphs on the domain [-15, 15].\n",
    "   \n",
    "   You should see that the 10 samples\n",
    "   (normal distributions) are all quite different. This means the prior is quite broad\n",
    "   (uncertain) over the mean and variance."
   ]
  },
  {
   "cell_type": "code",
   "execution_count": 4,
   "metadata": {},
   "outputs": [],
   "source": [
    "# Normal-inverse-gamma prior hyperparameters\n",
    "mu_0 = 0        # The prior mean is centered around 0.\n",
    "nu_0 = 0.054    # The smaller ν₀ is, the more uncertain we are about the prior mean.\n",
    "alpha_0 = 1.12  # α₀ and β₀ control the marginal prior over the variance.\n",
    "beta_0 = 0.4"
   ]
  },
  {
   "cell_type": "code",
   "execution_count": 5,
   "metadata": {},
   "outputs": [
    {
     "name": "stdout",
     "output_type": "stream",
     "text": [
      "[[ 4.57601583  0.88290601]\n",
      " [ 3.70695636  0.90354987]\n",
      " [ 2.6173729   0.32026397]\n",
      " [-3.1744711   1.126049  ]\n",
      " [ 0.54837293  0.53744132]\n",
      " [ 1.92673874  0.32546077]\n",
      " [ 4.62383646  0.43440648]\n",
      " [-2.57665512  4.88222538]\n",
      " [-2.22223242  0.37791656]\n",
      " [ 1.79276897  9.62189492]]\n"
     ]
    }
   ],
   "source": [
    "num_samples = 10\n",
    "samples = norminvgamma_rvs(mu_0, nu_0, alpha_0, beta_0, size=num_samples)  # YOU HAVE TO COMPLETE THIS\n",
    "print(samples)\n",
    "# YOU HAVE TO PLOT THE NORMAL PDF CORRESPONDING TO EACH SAMPLE ABOVE\n"
   ]
  },
  {
   "cell_type": "markdown",
   "metadata": {},
   "source": [
    "## Task 2\n",
    "\n",
    "Generate 1,000,000 samples from the normal-inverse-gamma prior above and calculate\n",
    "approximate 95% confidence intervals over the mean and the variance using the\n",
    "samples. You can use the `numpy.percentile` function for this.\n",
    "\n",
    "Your confidence intervals should approximately match the intervals [-10, 10] and [0.1, 10]."
   ]
  },
  {
   "cell_type": "code",
   "execution_count": null,
   "metadata": {},
   "outputs": [],
   "source": [
    "num_samples_1M = 1000000\n",
    "samples = norminvgamma_rvs(mu_0, nu_0, alpha_0, beta_0, size=num_samples_1M)\n",
    "\n",
    "\n"
   ]
  },
  {
   "cell_type": "markdown",
   "metadata": {},
   "source": [
    "## Task 3\n",
    "Code the equations for calculating the posterior normal-inverse-gamma hyperparameters\n",
    "from the prior hyperparameters and data.\n",
    "\n",
    "The equations are found on found [Wikipedia](https://en.wikipedia.org/wiki/Conjugate_prior#Table_of_conjugate_distributions) and reproduced below, using $d_i$ for a datum.\n",
    "Note that $n$ is the number of data, and $\\overline{d}$ is the mean of the data.\n",
    "\n",
    "$$\n",
    "\\begin{align}\n",
    "  \\mu_{\\text{post}} &= \\frac{\\nu_0\\mu_0 + n\\overline{d}}{\\nu_0 + n} \\\\\n",
    "  \\nu_{\\text{post}} &= \\nu_0 + n \\\\\n",
    "  \\alpha_{\\text{post}} &= \\alpha_0 + \\frac{n}{2} \\\\\n",
    "  \\beta_{\\text{post}} &=\n",
    "     \\beta_0 +\n",
    "     \\frac{1}{2}\\sum_{i=1}^n (d_i-\\overline{d})^2 +\n",
    "     \\frac{n\\nu_0}{\\nu_0+n}\\frac{(\\overline{d}-\\mu_0)^2}{2}\n",
    "\\end{align}\n",
    "$$\n",
    "\n",
    "Once you have the update equations implemented, Bayesian inference is done!\n",
    "\n",
    " * The likelihood function is the normal distribution with unknown mean and variance.\n",
    " * The posterior distribution is of the same type as the prior – normal-inverse-gamma.\n",
    " * The posterior parameters below give you the exact posterior normal-inverse-gamma distribution.\n",
    " * No approximation or numerical integration is needed."
   ]
  },
  {
   "cell_type": "code",
   "execution_count": null,
   "metadata": {},
   "outputs": [],
   "source": [
    "data = np.array([1, 2, 3, 4])  # In class you will get a larger data set.\n",
    "                               # This is just to get you started.\n",
    "mu_post = (mu_0*nu_0 + len(data)*np.mean(data))/(nu_0 + len(data))\n",
    "nu_post = nu_0 + len(data)\n",
    "alpha_post = alpha_0 + len(data)/2\n",
    "beta_post = beta_0 + "
   ]
  },
  {
   "cell_type": "markdown",
   "metadata": {},
   "source": [
    "## Task 4 (optional)\n",
    "\n",
    "You are told that the prior information we used above is incorrect. Actually, the prior 95%\n",
    "confidence interval on the mean should be [-15, 15] and on the variance [0.5, 2]. So, the prior\n",
    "over the mean is less certain (broader) than we had before, but the prior over the variance is\n",
    "more certain (narrower).\n",
    "\n",
    "Determine prior hyperparameters for the normal-inverse-gamma distribution that match the\n",
    "prior information above."
   ]
  },
  {
   "cell_type": "code",
   "execution_count": null,
   "metadata": {},
   "outputs": [],
   "source": []
  }
 ],
 "metadata": {
  "kernelspec": {
   "display_name": "Python 3",
   "language": "python",
   "name": "python3"
  },
  "language_info": {
   "codemirror_mode": {
    "name": "ipython",
    "version": 3
   },
   "file_extension": ".py",
   "mimetype": "text/x-python",
   "name": "python",
   "nbconvert_exporter": "python",
   "pygments_lexer": "ipython3",
   "version": "3.7.3"
  }
 },
 "nbformat": 4,
 "nbformat_minor": 2
}
